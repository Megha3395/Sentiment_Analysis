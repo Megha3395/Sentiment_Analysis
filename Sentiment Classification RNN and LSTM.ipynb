{
 "cells": [
  {
   "cell_type": "code",
   "execution_count": 1,
   "id": "05e7b8dd",
   "metadata": {},
   "outputs": [],
   "source": [
    "import pandas as pd\n",
    "import seaborn as sns\n",
    "import matplotlib.pyplot as plt\n",
    "import seaborn as sns\n",
    "import numpy as np"
   ]
  },
  {
   "cell_type": "code",
   "execution_count": 2,
   "id": "3a6fbaf1",
   "metadata": {},
   "outputs": [],
   "source": [
    "import warnings\n",
    "warnings.filterwarnings('ignore')"
   ]
  },
  {
   "cell_type": "code",
   "execution_count": 71,
   "id": "7d306833",
   "metadata": {},
   "outputs": [
    {
     "data": {
      "text/html": [
       "<div>\n",
       "<style scoped>\n",
       "    .dataframe tbody tr th:only-of-type {\n",
       "        vertical-align: middle;\n",
       "    }\n",
       "\n",
       "    .dataframe tbody tr th {\n",
       "        vertical-align: top;\n",
       "    }\n",
       "\n",
       "    .dataframe thead th {\n",
       "        text-align: right;\n",
       "    }\n",
       "</style>\n",
       "<table border=\"1\" class=\"dataframe\">\n",
       "  <thead>\n",
       "    <tr style=\"text-align: right;\">\n",
       "      <th></th>\n",
       "      <th>tweet_id</th>\n",
       "      <th>sentiment</th>\n",
       "      <th>author</th>\n",
       "      <th>content</th>\n",
       "    </tr>\n",
       "  </thead>\n",
       "  <tbody>\n",
       "    <tr>\n",
       "      <th>0</th>\n",
       "      <td>1956967341</td>\n",
       "      <td>empty</td>\n",
       "      <td>xoshayzers</td>\n",
       "      <td>@tiffanylue i know  i was listenin to bad habi...</td>\n",
       "    </tr>\n",
       "    <tr>\n",
       "      <th>1</th>\n",
       "      <td>1956967666</td>\n",
       "      <td>sadness</td>\n",
       "      <td>wannamama</td>\n",
       "      <td>Layin n bed with a headache  ughhhh...waitin o...</td>\n",
       "    </tr>\n",
       "    <tr>\n",
       "      <th>2</th>\n",
       "      <td>1956967696</td>\n",
       "      <td>sadness</td>\n",
       "      <td>coolfunky</td>\n",
       "      <td>Funeral ceremony...gloomy friday...</td>\n",
       "    </tr>\n",
       "    <tr>\n",
       "      <th>3</th>\n",
       "      <td>1956967789</td>\n",
       "      <td>enthusiasm</td>\n",
       "      <td>czareaquino</td>\n",
       "      <td>wants to hang out with friends SOON!</td>\n",
       "    </tr>\n",
       "    <tr>\n",
       "      <th>4</th>\n",
       "      <td>1956968416</td>\n",
       "      <td>neutral</td>\n",
       "      <td>xkilljoyx</td>\n",
       "      <td>@dannycastillo We want to trade with someone w...</td>\n",
       "    </tr>\n",
       "  </tbody>\n",
       "</table>\n",
       "</div>"
      ],
      "text/plain": [
       "     tweet_id   sentiment       author  \\\n",
       "0  1956967341       empty   xoshayzers   \n",
       "1  1956967666     sadness    wannamama   \n",
       "2  1956967696     sadness    coolfunky   \n",
       "3  1956967789  enthusiasm  czareaquino   \n",
       "4  1956968416     neutral    xkilljoyx   \n",
       "\n",
       "                                             content  \n",
       "0  @tiffanylue i know  i was listenin to bad habi...  \n",
       "1  Layin n bed with a headache  ughhhh...waitin o...  \n",
       "2                Funeral ceremony...gloomy friday...  \n",
       "3               wants to hang out with friends SOON!  \n",
       "4  @dannycastillo We want to trade with someone w...  "
      ]
     },
     "execution_count": 71,
     "metadata": {},
     "output_type": "execute_result"
    }
   ],
   "source": [
    "df1 = pd.read_csv('TextEmotion.csv')\n",
    "df1.head()"
   ]
  },
  {
   "cell_type": "code",
   "execution_count": 72,
   "id": "8078667a",
   "metadata": {},
   "outputs": [
    {
     "data": {
      "text/plain": [
       "neutral       8638\n",
       "worry         8459\n",
       "happiness     5209\n",
       "sadness       5165\n",
       "love          3842\n",
       "surprise      2187\n",
       "fun           1776\n",
       "relief        1526\n",
       "hate          1323\n",
       "empty          827\n",
       "enthusiasm     759\n",
       "boredom        179\n",
       "anger          110\n",
       "Name: sentiment, dtype: int64"
      ]
     },
     "execution_count": 72,
     "metadata": {},
     "output_type": "execute_result"
    }
   ],
   "source": [
    "df1['sentiment'].value_counts()"
   ]
  },
  {
   "cell_type": "code",
   "execution_count": null,
   "id": "f692637a",
   "metadata": {},
   "outputs": [],
   "source": []
  },
  {
   "cell_type": "code",
   "execution_count": 3,
   "id": "c8df970c",
   "metadata": {},
   "outputs": [
    {
     "data": {
      "text/html": [
       "<div>\n",
       "<style scoped>\n",
       "    .dataframe tbody tr th:only-of-type {\n",
       "        vertical-align: middle;\n",
       "    }\n",
       "\n",
       "    .dataframe tbody tr th {\n",
       "        vertical-align: top;\n",
       "    }\n",
       "\n",
       "    .dataframe thead th {\n",
       "        text-align: right;\n",
       "    }\n",
       "</style>\n",
       "<table border=\"1\" class=\"dataframe\">\n",
       "  <thead>\n",
       "    <tr style=\"text-align: right;\">\n",
       "      <th></th>\n",
       "      <th>tweet_id</th>\n",
       "      <th>sentiment</th>\n",
       "      <th>author</th>\n",
       "      <th>content</th>\n",
       "    </tr>\n",
       "  </thead>\n",
       "  <tbody>\n",
       "    <tr>\n",
       "      <th>0</th>\n",
       "      <td>1956967341</td>\n",
       "      <td>empty</td>\n",
       "      <td>xoshayzers</td>\n",
       "      <td>@tiffanylue i know  i was listenin to bad habi...</td>\n",
       "    </tr>\n",
       "    <tr>\n",
       "      <th>1</th>\n",
       "      <td>1956967666</td>\n",
       "      <td>sadness</td>\n",
       "      <td>wannamama</td>\n",
       "      <td>Layin n bed with a headache  ughhhh...waitin o...</td>\n",
       "    </tr>\n",
       "    <tr>\n",
       "      <th>2</th>\n",
       "      <td>1956967696</td>\n",
       "      <td>sadness</td>\n",
       "      <td>coolfunky</td>\n",
       "      <td>Funeral ceremony...gloomy friday...</td>\n",
       "    </tr>\n",
       "    <tr>\n",
       "      <th>3</th>\n",
       "      <td>1956967789</td>\n",
       "      <td>enthusiasm</td>\n",
       "      <td>czareaquino</td>\n",
       "      <td>wants to hang out with friends SOON!</td>\n",
       "    </tr>\n",
       "    <tr>\n",
       "      <th>4</th>\n",
       "      <td>1956968416</td>\n",
       "      <td>neutral</td>\n",
       "      <td>xkilljoyx</td>\n",
       "      <td>@dannycastillo We want to trade with someone w...</td>\n",
       "    </tr>\n",
       "  </tbody>\n",
       "</table>\n",
       "</div>"
      ],
      "text/plain": [
       "     tweet_id   sentiment       author  \\\n",
       "0  1956967341       empty   xoshayzers   \n",
       "1  1956967666     sadness    wannamama   \n",
       "2  1956967696     sadness    coolfunky   \n",
       "3  1956967789  enthusiasm  czareaquino   \n",
       "4  1956968416     neutral    xkilljoyx   \n",
       "\n",
       "                                             content  \n",
       "0  @tiffanylue i know  i was listenin to bad habi...  \n",
       "1  Layin n bed with a headache  ughhhh...waitin o...  \n",
       "2                Funeral ceremony...gloomy friday...  \n",
       "3               wants to hang out with friends SOON!  \n",
       "4  @dannycastillo We want to trade with someone w...  "
      ]
     },
     "execution_count": 3,
     "metadata": {},
     "output_type": "execute_result"
    }
   ],
   "source": [
    "df = pd.read_csv('TextEmotion.csv')\n",
    "df.head()"
   ]
  },
  {
   "cell_type": "code",
   "execution_count": 4,
   "id": "0967ab7b",
   "metadata": {},
   "outputs": [
    {
     "data": {
      "text/html": [
       "<div>\n",
       "<style scoped>\n",
       "    .dataframe tbody tr th:only-of-type {\n",
       "        vertical-align: middle;\n",
       "    }\n",
       "\n",
       "    .dataframe tbody tr th {\n",
       "        vertical-align: top;\n",
       "    }\n",
       "\n",
       "    .dataframe thead th {\n",
       "        text-align: right;\n",
       "    }\n",
       "</style>\n",
       "<table border=\"1\" class=\"dataframe\">\n",
       "  <thead>\n",
       "    <tr style=\"text-align: right;\">\n",
       "      <th></th>\n",
       "      <th>content</th>\n",
       "      <th>sentiment</th>\n",
       "    </tr>\n",
       "  </thead>\n",
       "  <tbody>\n",
       "    <tr>\n",
       "      <th>0</th>\n",
       "      <td>@tiffanylue i know  i was listenin to bad habi...</td>\n",
       "      <td>empty</td>\n",
       "    </tr>\n",
       "    <tr>\n",
       "      <th>1</th>\n",
       "      <td>Layin n bed with a headache  ughhhh...waitin o...</td>\n",
       "      <td>sadness</td>\n",
       "    </tr>\n",
       "    <tr>\n",
       "      <th>2</th>\n",
       "      <td>Funeral ceremony...gloomy friday...</td>\n",
       "      <td>sadness</td>\n",
       "    </tr>\n",
       "    <tr>\n",
       "      <th>3</th>\n",
       "      <td>wants to hang out with friends SOON!</td>\n",
       "      <td>enthusiasm</td>\n",
       "    </tr>\n",
       "    <tr>\n",
       "      <th>4</th>\n",
       "      <td>@dannycastillo We want to trade with someone w...</td>\n",
       "      <td>neutral</td>\n",
       "    </tr>\n",
       "  </tbody>\n",
       "</table>\n",
       "</div>"
      ],
      "text/plain": [
       "                                             content   sentiment\n",
       "0  @tiffanylue i know  i was listenin to bad habi...       empty\n",
       "1  Layin n bed with a headache  ughhhh...waitin o...     sadness\n",
       "2                Funeral ceremony...gloomy friday...     sadness\n",
       "3               wants to hang out with friends SOON!  enthusiasm\n",
       "4  @dannycastillo We want to trade with someone w...     neutral"
      ]
     },
     "execution_count": 4,
     "metadata": {},
     "output_type": "execute_result"
    }
   ],
   "source": [
    "df = df[['content','sentiment']]\n",
    "df.head()"
   ]
  },
  {
   "cell_type": "code",
   "execution_count": 5,
   "id": "9692a016",
   "metadata": {},
   "outputs": [
    {
     "data": {
      "text/html": [
       "<div>\n",
       "<style scoped>\n",
       "    .dataframe tbody tr th:only-of-type {\n",
       "        vertical-align: middle;\n",
       "    }\n",
       "\n",
       "    .dataframe tbody tr th {\n",
       "        vertical-align: top;\n",
       "    }\n",
       "\n",
       "    .dataframe thead th {\n",
       "        text-align: right;\n",
       "    }\n",
       "</style>\n",
       "<table border=\"1\" class=\"dataframe\">\n",
       "  <thead>\n",
       "    <tr style=\"text-align: right;\">\n",
       "      <th></th>\n",
       "      <th>content</th>\n",
       "      <th>sentiment</th>\n",
       "    </tr>\n",
       "  </thead>\n",
       "  <tbody>\n",
       "    <tr>\n",
       "      <th>0</th>\n",
       "      <td>Layin n bed with a headache  ughhhh...waitin o...</td>\n",
       "      <td>sadness</td>\n",
       "    </tr>\n",
       "    <tr>\n",
       "      <th>1</th>\n",
       "      <td>Funeral ceremony...gloomy friday...</td>\n",
       "      <td>sadness</td>\n",
       "    </tr>\n",
       "    <tr>\n",
       "      <th>2</th>\n",
       "      <td>I should be sleep, but im not! thinking about ...</td>\n",
       "      <td>sadness</td>\n",
       "    </tr>\n",
       "    <tr>\n",
       "      <th>3</th>\n",
       "      <td>@charviray Charlene my love. I miss you</td>\n",
       "      <td>sadness</td>\n",
       "    </tr>\n",
       "    <tr>\n",
       "      <th>4</th>\n",
       "      <td>@kelcouch I'm sorry  at least it's Friday?</td>\n",
       "      <td>sadness</td>\n",
       "    </tr>\n",
       "  </tbody>\n",
       "</table>\n",
       "</div>"
      ],
      "text/plain": [
       "                                             content sentiment\n",
       "0  Layin n bed with a headache  ughhhh...waitin o...   sadness\n",
       "1                Funeral ceremony...gloomy friday...   sadness\n",
       "2  I should be sleep, but im not! thinking about ...   sadness\n",
       "3            @charviray Charlene my love. I miss you   sadness\n",
       "4         @kelcouch I'm sorry  at least it's Friday?   sadness"
      ]
     },
     "execution_count": 5,
     "metadata": {},
     "output_type": "execute_result"
    }
   ],
   "source": [
    "df = df[df['sentiment'].isin(['happiness','sadness'])]\n",
    "df.reset_index(drop=True,inplace=True)\n",
    "df.head()"
   ]
  },
  {
   "cell_type": "code",
   "execution_count": 6,
   "id": "5ee4fe4b",
   "metadata": {},
   "outputs": [
    {
     "data": {
      "text/plain": [
       "array(['sadness', 'happiness'], dtype=object)"
      ]
     },
     "execution_count": 6,
     "metadata": {},
     "output_type": "execute_result"
    }
   ],
   "source": [
    "df['sentiment'].unique()"
   ]
  },
  {
   "cell_type": "code",
   "execution_count": 7,
   "id": "a9864b1a",
   "metadata": {},
   "outputs": [],
   "source": [
    "from nltk.stem import PorterStemmer, WordNetLemmatizer\n",
    "pd = PorterStemmer()\n",
    "lm = WordNetLemmatizer()\n",
    "import pandas as pd\n",
    "import nltk\n",
    "import contractions\n",
    "import re\n",
    "\n",
    "stop_words = nltk.corpus.stopwords.words('english')"
   ]
  },
  {
   "cell_type": "code",
   "execution_count": 8,
   "id": "1b6d6cd2",
   "metadata": {},
   "outputs": [],
   "source": [
    "def convert_lower(text):\n",
    "    text = text.lower()\n",
    "    return(text)\n",
    "\n",
    "def expand_contractions(text):\n",
    "    text = contractions.fix(text)\n",
    "    return(text)\n",
    "\n",
    "def special_characters(text):\n",
    "    text = re.sub(r'@\\w+','',text)\n",
    "    text = re.sub(r'[^a-zA-Z\\s]','',text)\n",
    "    return(text)\n",
    "\n",
    "def removing_extra_spaces(text):\n",
    "    text = re.sub(r'\\s+',' ',text)\n",
    "    return(text)\n",
    "\n",
    "def lemmatize(text):\n",
    "    text = [lm.lemmatize(word,'v') for word in text.split()]\n",
    "    return( ' '.join(text) )\n",
    "\n",
    "def stem(text):\n",
    "    text = [ps.stem(word) for word in text.split()]\n",
    "    return( ' '.join(text) )\n",
    "\n",
    "def stopword_removal(text):\n",
    "    text = [word for word in text.split() if word not in stop_words]\n",
    "    return( ' '.join(text) )\n"
   ]
  },
  {
   "cell_type": "code",
   "execution_count": 9,
   "id": "b16492e9",
   "metadata": {},
   "outputs": [],
   "source": [
    "def dataclean(text):\n",
    "    text = convert_lower(text)\n",
    "    \n",
    "    text = expand_contractions(text)\n",
    "    \n",
    "    text = special_characters(text)\n",
    "    \n",
    "    text = removing_extra_spaces(text)\n",
    "    \n",
    "    text = lemmatize(text)\n",
    "    \n",
    "    text = stopword_removal(text)\n",
    "    \n",
    "    text = text.strip()\n",
    "    \n",
    "    return text "
   ]
  },
  {
   "cell_type": "code",
   "execution_count": 10,
   "id": "f48eabe6",
   "metadata": {},
   "outputs": [],
   "source": [
    "df['data_clean'] = df['content'].apply(lambda x: dataclean(x))"
   ]
  },
  {
   "cell_type": "code",
   "execution_count": 11,
   "id": "e7473c94",
   "metadata": {},
   "outputs": [
    {
     "data": {
      "text/html": [
       "<div>\n",
       "<style scoped>\n",
       "    .dataframe tbody tr th:only-of-type {\n",
       "        vertical-align: middle;\n",
       "    }\n",
       "\n",
       "    .dataframe tbody tr th {\n",
       "        vertical-align: top;\n",
       "    }\n",
       "\n",
       "    .dataframe thead th {\n",
       "        text-align: right;\n",
       "    }\n",
       "</style>\n",
       "<table border=\"1\" class=\"dataframe\">\n",
       "  <thead>\n",
       "    <tr style=\"text-align: right;\">\n",
       "      <th></th>\n",
       "      <th>content</th>\n",
       "      <th>sentiment</th>\n",
       "      <th>data_clean</th>\n",
       "      <th>flag</th>\n",
       "    </tr>\n",
       "  </thead>\n",
       "  <tbody>\n",
       "    <tr>\n",
       "      <th>10369</th>\n",
       "      <td>going to watch boy in the striped pj's hope i ...</td>\n",
       "      <td>happiness</td>\n",
       "      <td>go watch boy strip pjs hope cry</td>\n",
       "      <td>True</td>\n",
       "    </tr>\n",
       "    <tr>\n",
       "      <th>10370</th>\n",
       "      <td>gave the bikes a thorough wash, degrease it an...</td>\n",
       "      <td>happiness</td>\n",
       "      <td>give bike thorough wash degrease grease think ...</td>\n",
       "      <td>True</td>\n",
       "    </tr>\n",
       "    <tr>\n",
       "      <th>10371</th>\n",
       "      <td>had SUCH and AMAZING time last night, McFly we...</td>\n",
       "      <td>happiness</td>\n",
       "      <td>amaze time last night mcfly incredible</td>\n",
       "      <td>True</td>\n",
       "    </tr>\n",
       "    <tr>\n",
       "      <th>10372</th>\n",
       "      <td>Succesfully following Tayla!!</td>\n",
       "      <td>happiness</td>\n",
       "      <td>succesfully follow tayla</td>\n",
       "      <td>True</td>\n",
       "    </tr>\n",
       "    <tr>\n",
       "      <th>10373</th>\n",
       "      <td>@niariley WASSUP BEAUTIFUL!!! FOLLOW ME!!  PEE...</td>\n",
       "      <td>happiness</td>\n",
       "      <td>wassup beautiful follow peep new hit single ww...</td>\n",
       "      <td>True</td>\n",
       "    </tr>\n",
       "  </tbody>\n",
       "</table>\n",
       "</div>"
      ],
      "text/plain": [
       "                                                 content  sentiment  \\\n",
       "10369  going to watch boy in the striped pj's hope i ...  happiness   \n",
       "10370  gave the bikes a thorough wash, degrease it an...  happiness   \n",
       "10371  had SUCH and AMAZING time last night, McFly we...  happiness   \n",
       "10372                      Succesfully following Tayla!!  happiness   \n",
       "10373  @niariley WASSUP BEAUTIFUL!!! FOLLOW ME!!  PEE...  happiness   \n",
       "\n",
       "                                              data_clean  flag  \n",
       "10369                    go watch boy strip pjs hope cry  True  \n",
       "10370  give bike thorough wash degrease grease think ...  True  \n",
       "10371             amaze time last night mcfly incredible  True  \n",
       "10372                           succesfully follow tayla  True  \n",
       "10373  wassup beautiful follow peep new hit single ww...  True  "
      ]
     },
     "execution_count": 11,
     "metadata": {},
     "output_type": "execute_result"
    }
   ],
   "source": [
    "df['flag'] = np.where(df['data_clean']!='',True,False)\n",
    "df.tail()"
   ]
  },
  {
   "cell_type": "code",
   "execution_count": 12,
   "id": "1dc04630",
   "metadata": {},
   "outputs": [
    {
     "data": {
      "text/html": [
       "<div>\n",
       "<style scoped>\n",
       "    .dataframe tbody tr th:only-of-type {\n",
       "        vertical-align: middle;\n",
       "    }\n",
       "\n",
       "    .dataframe tbody tr th {\n",
       "        vertical-align: top;\n",
       "    }\n",
       "\n",
       "    .dataframe thead th {\n",
       "        text-align: right;\n",
       "    }\n",
       "</style>\n",
       "<table border=\"1\" class=\"dataframe\">\n",
       "  <thead>\n",
       "    <tr style=\"text-align: right;\">\n",
       "      <th></th>\n",
       "      <th>content</th>\n",
       "      <th>sentiment</th>\n",
       "      <th>data_clean</th>\n",
       "      <th>flag</th>\n",
       "    </tr>\n",
       "  </thead>\n",
       "  <tbody>\n",
       "    <tr>\n",
       "      <th>10369</th>\n",
       "      <td>going to watch boy in the striped pj's hope i ...</td>\n",
       "      <td>happiness</td>\n",
       "      <td>go watch boy strip pjs hope cry</td>\n",
       "      <td>True</td>\n",
       "    </tr>\n",
       "    <tr>\n",
       "      <th>10370</th>\n",
       "      <td>gave the bikes a thorough wash, degrease it an...</td>\n",
       "      <td>happiness</td>\n",
       "      <td>give bike thorough wash degrease grease think ...</td>\n",
       "      <td>True</td>\n",
       "    </tr>\n",
       "    <tr>\n",
       "      <th>10371</th>\n",
       "      <td>had SUCH and AMAZING time last night, McFly we...</td>\n",
       "      <td>happiness</td>\n",
       "      <td>amaze time last night mcfly incredible</td>\n",
       "      <td>True</td>\n",
       "    </tr>\n",
       "    <tr>\n",
       "      <th>10372</th>\n",
       "      <td>Succesfully following Tayla!!</td>\n",
       "      <td>happiness</td>\n",
       "      <td>succesfully follow tayla</td>\n",
       "      <td>True</td>\n",
       "    </tr>\n",
       "    <tr>\n",
       "      <th>10373</th>\n",
       "      <td>@niariley WASSUP BEAUTIFUL!!! FOLLOW ME!!  PEE...</td>\n",
       "      <td>happiness</td>\n",
       "      <td>wassup beautiful follow peep new hit single ww...</td>\n",
       "      <td>True</td>\n",
       "    </tr>\n",
       "  </tbody>\n",
       "</table>\n",
       "</div>"
      ],
      "text/plain": [
       "                                                 content  sentiment  \\\n",
       "10369  going to watch boy in the striped pj's hope i ...  happiness   \n",
       "10370  gave the bikes a thorough wash, degrease it an...  happiness   \n",
       "10371  had SUCH and AMAZING time last night, McFly we...  happiness   \n",
       "10372                      Succesfully following Tayla!!  happiness   \n",
       "10373  @niariley WASSUP BEAUTIFUL!!! FOLLOW ME!!  PEE...  happiness   \n",
       "\n",
       "                                              data_clean  flag  \n",
       "10369                    go watch boy strip pjs hope cry  True  \n",
       "10370  give bike thorough wash degrease grease think ...  True  \n",
       "10371             amaze time last night mcfly incredible  True  \n",
       "10372                           succesfully follow tayla  True  \n",
       "10373  wassup beautiful follow peep new hit single ww...  True  "
      ]
     },
     "execution_count": 12,
     "metadata": {},
     "output_type": "execute_result"
    }
   ],
   "source": [
    "df = df[df['flag']==True]\n",
    "df.tail()"
   ]
  },
  {
   "cell_type": "code",
   "execution_count": 13,
   "id": "7e833cf0",
   "metadata": {},
   "outputs": [
    {
     "data": {
      "text/html": [
       "<div>\n",
       "<style scoped>\n",
       "    .dataframe tbody tr th:only-of-type {\n",
       "        vertical-align: middle;\n",
       "    }\n",
       "\n",
       "    .dataframe tbody tr th {\n",
       "        vertical-align: top;\n",
       "    }\n",
       "\n",
       "    .dataframe thead th {\n",
       "        text-align: right;\n",
       "    }\n",
       "</style>\n",
       "<table border=\"1\" class=\"dataframe\">\n",
       "  <thead>\n",
       "    <tr style=\"text-align: right;\">\n",
       "      <th></th>\n",
       "      <th>data_clean</th>\n",
       "      <th>sentiment</th>\n",
       "    </tr>\n",
       "  </thead>\n",
       "  <tbody>\n",
       "    <tr>\n",
       "      <th>0</th>\n",
       "      <td>layin n bed headache ughhhhwaitin call</td>\n",
       "      <td>sadness</td>\n",
       "    </tr>\n",
       "    <tr>\n",
       "      <th>1</th>\n",
       "      <td>funeral ceremonygloomy friday</td>\n",
       "      <td>sadness</td>\n",
       "    </tr>\n",
       "    <tr>\n",
       "      <th>2</th>\n",
       "      <td>sleep think old friend want marry damn amp wan...</td>\n",
       "      <td>sadness</td>\n",
       "    </tr>\n",
       "    <tr>\n",
       "      <th>3</th>\n",
       "      <td>charlene love miss</td>\n",
       "      <td>sadness</td>\n",
       "    </tr>\n",
       "    <tr>\n",
       "      <th>4</th>\n",
       "      <td>sorry least friday</td>\n",
       "      <td>sadness</td>\n",
       "    </tr>\n",
       "  </tbody>\n",
       "</table>\n",
       "</div>"
      ],
      "text/plain": [
       "                                          data_clean sentiment\n",
       "0             layin n bed headache ughhhhwaitin call   sadness\n",
       "1                      funeral ceremonygloomy friday   sadness\n",
       "2  sleep think old friend want marry damn amp wan...   sadness\n",
       "3                                 charlene love miss   sadness\n",
       "4                                 sorry least friday   sadness"
      ]
     },
     "execution_count": 13,
     "metadata": {},
     "output_type": "execute_result"
    }
   ],
   "source": [
    "df = df[['data_clean','sentiment']]\n",
    "df.head()"
   ]
  },
  {
   "cell_type": "code",
   "execution_count": 14,
   "id": "2976a35e",
   "metadata": {},
   "outputs": [],
   "source": [
    "dt_map = {'happiness':1,'sadness':0}"
   ]
  },
  {
   "cell_type": "code",
   "execution_count": 15,
   "id": "28d8b632",
   "metadata": {},
   "outputs": [
    {
     "data": {
      "text/html": [
       "<div>\n",
       "<style scoped>\n",
       "    .dataframe tbody tr th:only-of-type {\n",
       "        vertical-align: middle;\n",
       "    }\n",
       "\n",
       "    .dataframe tbody tr th {\n",
       "        vertical-align: top;\n",
       "    }\n",
       "\n",
       "    .dataframe thead th {\n",
       "        text-align: right;\n",
       "    }\n",
       "</style>\n",
       "<table border=\"1\" class=\"dataframe\">\n",
       "  <thead>\n",
       "    <tr style=\"text-align: right;\">\n",
       "      <th></th>\n",
       "      <th>data_clean</th>\n",
       "      <th>sentiment</th>\n",
       "    </tr>\n",
       "  </thead>\n",
       "  <tbody>\n",
       "    <tr>\n",
       "      <th>0</th>\n",
       "      <td>layin n bed headache ughhhhwaitin call</td>\n",
       "      <td>0</td>\n",
       "    </tr>\n",
       "    <tr>\n",
       "      <th>1</th>\n",
       "      <td>funeral ceremonygloomy friday</td>\n",
       "      <td>0</td>\n",
       "    </tr>\n",
       "    <tr>\n",
       "      <th>2</th>\n",
       "      <td>sleep think old friend want marry damn amp wan...</td>\n",
       "      <td>0</td>\n",
       "    </tr>\n",
       "  </tbody>\n",
       "</table>\n",
       "</div>"
      ],
      "text/plain": [
       "                                          data_clean  sentiment\n",
       "0             layin n bed headache ughhhhwaitin call          0\n",
       "1                      funeral ceremonygloomy friday          0\n",
       "2  sleep think old friend want marry damn amp wan...          0"
      ]
     },
     "execution_count": 15,
     "metadata": {},
     "output_type": "execute_result"
    }
   ],
   "source": [
    "df['sentiment'] = df['sentiment'].apply(lambda x: dt_map[x])\n",
    "df.head(3)"
   ]
  },
  {
   "cell_type": "code",
   "execution_count": 16,
   "id": "840ce123",
   "metadata": {},
   "outputs": [
    {
     "data": {
      "text/plain": [
       "1    5204\n",
       "0    5156\n",
       "Name: sentiment, dtype: int64"
      ]
     },
     "execution_count": 16,
     "metadata": {},
     "output_type": "execute_result"
    }
   ],
   "source": [
    "df['sentiment'].value_counts()"
   ]
  },
  {
   "cell_type": "markdown",
   "id": "43d477f7-cc1d-450b-a698-e80cbe5c207b",
   "metadata": {},
   "source": [
    "### Train Test Split"
   ]
  },
  {
   "cell_type": "code",
   "execution_count": 21,
   "id": "e628c2c1",
   "metadata": {},
   "outputs": [],
   "source": [
    "X = df['data_clean'].values\n",
    "Y= df['sentiment'].values"
   ]
  },
  {
   "cell_type": "code",
   "execution_count": 23,
   "id": "376061eb",
   "metadata": {},
   "outputs": [
    {
     "data": {
      "text/plain": [
       "array(['layin n bed headache ughhhhwaitin call',\n",
       "       'funeral ceremonygloomy friday',\n",
       "       'sleep think old friend want marry damn amp want scandalous'],\n",
       "      dtype=object)"
      ]
     },
     "execution_count": 23,
     "metadata": {},
     "output_type": "execute_result"
    }
   ],
   "source": [
    "X[:3]"
   ]
  },
  {
   "cell_type": "code",
   "execution_count": 24,
   "id": "5c696310",
   "metadata": {},
   "outputs": [],
   "source": [
    "from sklearn.model_selection import train_test_split"
   ]
  },
  {
   "cell_type": "code",
   "execution_count": 25,
   "id": "f886a6c1",
   "metadata": {},
   "outputs": [],
   "source": [
    "xtrain, xtest, ytrain, ytest = train_test_split(X,Y,test_size = 0.20, random_state=89)"
   ]
  },
  {
   "cell_type": "code",
   "execution_count": 26,
   "id": "6eb64e97",
   "metadata": {},
   "outputs": [
    {
     "data": {
      "text/plain": [
       "((8288,), (2072,), (8288,), (2072,))"
      ]
     },
     "execution_count": 26,
     "metadata": {},
     "output_type": "execute_result"
    }
   ],
   "source": [
    "xtrain.shape, xtest.shape, ytrain.shape, ytest.shape"
   ]
  },
  {
   "cell_type": "code",
   "execution_count": 27,
   "id": "0a24e432",
   "metadata": {},
   "outputs": [
    {
     "data": {
      "text/plain": [
       "array(['sigh get computer even homework bye', 'go miss gurl honeymoon',\n",
       "       'haha cry xx'], dtype=object)"
      ]
     },
     "execution_count": 27,
     "metadata": {},
     "output_type": "execute_result"
    }
   ],
   "source": [
    "xtrain[:3]"
   ]
  },
  {
   "cell_type": "markdown",
   "id": "a8a8a96f-aa6c-40cc-92de-d222a45911f5",
   "metadata": {},
   "source": [
    "### Create Tokens"
   ]
  },
  {
   "cell_type": "code",
   "execution_count": null,
   "id": "ea622125-6a83-459d-b07a-fa85635d98b9",
   "metadata": {},
   "outputs": [],
   "source": [
    "from tensorflow.keras.preprocessing.text import Tokenizer\n",
    "from tensorflow.keras.preprocessing.sequence import pad_sequences"
   ]
  },
  {
   "cell_type": "code",
   "execution_count": 28,
   "id": "e12760d1",
   "metadata": {},
   "outputs": [],
   "source": [
    "t = Tokenizer()\n",
    "t.fit_on_texts(xtrain)"
   ]
  },
  {
   "cell_type": "code",
   "execution_count": 30,
   "id": "bf7fc1d9",
   "metadata": {},
   "outputs": [],
   "source": [
    "encoded_train = t.texts_to_sequences(xtrain)\n",
    "encoded_test = t.texts_to_sequences(xtest)"
   ]
  },
  {
   "cell_type": "code",
   "execution_count": 31,
   "id": "fe5faf61",
   "metadata": {},
   "outputs": [
    {
     "data": {
      "text/plain": [
       "(8288, 2072)"
      ]
     },
     "execution_count": 31,
     "metadata": {},
     "output_type": "execute_result"
    }
   ],
   "source": [
    "len(encoded_train),len(encoded_test)"
   ]
  },
  {
   "cell_type": "code",
   "execution_count": 32,
   "id": "1e120e93",
   "metadata": {},
   "outputs": [
    {
     "data": {
      "text/plain": [
       "[[392, 2, 348, 63, 1326, 377],\n",
       " [1, 6, 2473, 3770],\n",
       " [33, 87, 281],\n",
       " [36, 3771, 2474, 3772, 113, 4, 259],\n",
       " [564, 3773, 3774, 307, 27, 16, 909, 1007, 503, 127]]"
      ]
     },
     "execution_count": 32,
     "metadata": {},
     "output_type": "execute_result"
    }
   ],
   "source": [
    "encoded_train[:5]"
   ]
  },
  {
   "cell_type": "code",
   "execution_count": 33,
   "id": "ea050453",
   "metadata": {},
   "outputs": [
    {
     "data": {
      "text/plain": [
       "array(['sigh get computer even homework bye', 'go miss gurl honeymoon',\n",
       "       'haha cry xx'], dtype=object)"
      ]
     },
     "execution_count": 33,
     "metadata": {},
     "output_type": "execute_result"
    }
   ],
   "source": [
    "xtrain[:3]"
   ]
  },
  {
   "cell_type": "code",
   "execution_count": 34,
   "id": "5b1a35e1",
   "metadata": {},
   "outputs": [
    {
     "name": "stdout",
     "output_type": "stream",
     "text": [
      "21\n"
     ]
    }
   ],
   "source": [
    "max_len = 0\n",
    "for text in encoded_train:\n",
    "    l = len(text)\n",
    "    if(l>max_len):\n",
    "        max_len = l\n",
    "print(max_len)"
   ]
  },
  {
   "cell_type": "code",
   "execution_count": 35,
   "id": "547422f4",
   "metadata": {},
   "outputs": [],
   "source": [
    "transformed_train = pad_sequences(encoded_train,maxlen=max_len, padding='post')\n",
    "transformed_test = pad_sequences(encoded_test,maxlen=max_len, padding='post')"
   ]
  },
  {
   "cell_type": "code",
   "execution_count": 36,
   "id": "f09119b6",
   "metadata": {},
   "outputs": [
    {
     "data": {
      "text/plain": [
       "array([[ 392,    2,  348,   63, 1326,  377,    0,    0,    0,    0,    0,\n",
       "           0,    0,    0,    0,    0,    0,    0,    0,    0,    0],\n",
       "       [   1,    6, 2473, 3770,    0,    0,    0,    0,    0,    0,    0,\n",
       "           0,    0,    0,    0,    0,    0,    0,    0,    0,    0],\n",
       "       [  33,   87,  281,    0,    0,    0,    0,    0,    0,    0,    0,\n",
       "           0,    0,    0,    0,    0,    0,    0,    0,    0,    0]])"
      ]
     },
     "execution_count": 36,
     "metadata": {},
     "output_type": "execute_result"
    }
   ],
   "source": [
    "transformed_train[:3]"
   ]
  },
  {
   "cell_type": "code",
   "execution_count": 37,
   "id": "1825ef67",
   "metadata": {},
   "outputs": [
    {
     "data": {
      "text/plain": [
       "11135"
      ]
     },
     "execution_count": 37,
     "metadata": {},
     "output_type": "execute_result"
    }
   ],
   "source": [
    "vocab = len(t.word_index)+1\n",
    "vocab"
   ]
  },
  {
   "cell_type": "code",
   "execution_count": 38,
   "id": "087c9c19",
   "metadata": {},
   "outputs": [],
   "source": [
    "from keras.models import Sequential\n",
    "from keras.layers import Dense, SimpleRNN, LSTM, Embedding"
   ]
  },
  {
   "cell_type": "code",
   "execution_count": 55,
   "id": "7953962a",
   "metadata": {},
   "outputs": [],
   "source": [
    "model = Sequential()\n",
    "model.add(Embedding(vocab, 32, input_length=max_len))\n",
    "model.add(SimpleRNN(16,return_sequences=True))\n",
    "model.add(SimpleRNN(8,dropout=0.20))\n",
    "model.add(Dense(1,activation='sigmoid'))"
   ]
  },
  {
   "cell_type": "code",
   "execution_count": 56,
   "id": "ea5fec33",
   "metadata": {},
   "outputs": [
    {
     "name": "stdout",
     "output_type": "stream",
     "text": [
      "Model: \"sequential_2\"\n",
      "_________________________________________________________________\n",
      " Layer (type)                Output Shape              Param #   \n",
      "=================================================================\n",
      " embedding_2 (Embedding)     (None, 21, 32)            356320    \n",
      "                                                                 \n",
      " simple_rnn_4 (SimpleRNN)    (None, 21, 16)            784       \n",
      "                                                                 \n",
      " simple_rnn_5 (SimpleRNN)    (None, 8)                 200       \n",
      "                                                                 \n",
      " dense_2 (Dense)             (None, 1)                 9         \n",
      "                                                                 \n",
      "=================================================================\n",
      "Total params: 357313 (1.36 MB)\n",
      "Trainable params: 357313 (1.36 MB)\n",
      "Non-trainable params: 0 (0.00 Byte)\n",
      "_________________________________________________________________\n"
     ]
    }
   ],
   "source": [
    "model.summary()"
   ]
  },
  {
   "cell_type": "code",
   "execution_count": 57,
   "id": "9c7dade8",
   "metadata": {},
   "outputs": [],
   "source": [
    "model.compile(loss='binary_crossentropy',metrics=['accuracy'])"
   ]
  },
  {
   "cell_type": "code",
   "execution_count": 58,
   "id": "f930c24e",
   "metadata": {},
   "outputs": [
    {
     "name": "stdout",
     "output_type": "stream",
     "text": [
      "Epoch 1/5\n",
      "259/259 [==============================] - 6s 12ms/step - loss: 0.5677 - accuracy: 0.7011\n",
      "Epoch 2/5\n",
      "259/259 [==============================] - 3s 13ms/step - loss: 0.4031 - accuracy: 0.8295\n",
      "Epoch 3/5\n",
      "259/259 [==============================] - 3s 12ms/step - loss: 0.3026 - accuracy: 0.8786\n",
      "Epoch 4/5\n",
      "259/259 [==============================] - 3s 12ms/step - loss: 0.2263 - accuracy: 0.9113\n",
      "Epoch 5/5\n",
      "259/259 [==============================] - 3s 13ms/step - loss: 0.1685 - accuracy: 0.9381\n"
     ]
    },
    {
     "data": {
      "text/plain": [
       "<keras.src.callbacks.History at 0x22dbfb86380>"
      ]
     },
     "execution_count": 58,
     "metadata": {},
     "output_type": "execute_result"
    }
   ],
   "source": [
    "model.fit(x = transformed_train, y = ytrain, epochs=5)"
   ]
  },
  {
   "cell_type": "code",
   "execution_count": 59,
   "id": "7667e3fc",
   "metadata": {},
   "outputs": [],
   "source": [
    "from sklearn.metrics import accuracy_score"
   ]
  },
  {
   "cell_type": "code",
   "execution_count": 60,
   "id": "1615cda5",
   "metadata": {},
   "outputs": [
    {
     "name": "stdout",
     "output_type": "stream",
     "text": [
      "65/65 [==============================] - 1s 4ms/step\n"
     ]
    },
    {
     "data": {
      "text/plain": [
       "array([[0.98091805],\n",
       "       [0.01851756],\n",
       "       [0.9482391 ],\n",
       "       [0.2757466 ]], dtype=float32)"
      ]
     },
     "execution_count": 60,
     "metadata": {},
     "output_type": "execute_result"
    }
   ],
   "source": [
    "pred_rnn =model.predict(transformed_test)\n",
    "pred_rnn[:4]"
   ]
  },
  {
   "cell_type": "code",
   "execution_count": 61,
   "id": "8b6c30c9",
   "metadata": {},
   "outputs": [
    {
     "data": {
      "text/plain": [
       "array([[1],\n",
       "       [0],\n",
       "       [1],\n",
       "       [0]])"
      ]
     },
     "execution_count": 61,
     "metadata": {},
     "output_type": "execute_result"
    }
   ],
   "source": [
    "pred_rnn = (pred_rnn> 0.50)*1\n",
    "pred_rnn[:4]"
   ]
  },
  {
   "cell_type": "code",
   "execution_count": 62,
   "id": "eb209dbb",
   "metadata": {},
   "outputs": [
    {
     "data": {
      "text/plain": [
       "0.7601351351351351"
      ]
     },
     "execution_count": 62,
     "metadata": {},
     "output_type": "execute_result"
    }
   ],
   "source": [
    "accuracy_score(ytest, pred_rnn)"
   ]
  },
  {
   "cell_type": "code",
   "execution_count": 63,
   "id": "95c31c25",
   "metadata": {},
   "outputs": [
    {
     "data": {
      "text/plain": [
       "2072"
      ]
     },
     "execution_count": 63,
     "metadata": {},
     "output_type": "execute_result"
    }
   ],
   "source": [
    "len(transformed_test)"
   ]
  },
  {
   "cell_type": "code",
   "execution_count": 64,
   "id": "ad876058",
   "metadata": {},
   "outputs": [
    {
     "data": {
      "text/plain": [
       "64.75"
      ]
     },
     "execution_count": 64,
     "metadata": {},
     "output_type": "execute_result"
    }
   ],
   "source": [
    "2072/32"
   ]
  },
  {
   "cell_type": "markdown",
   "id": "872cae4d",
   "metadata": {},
   "source": [
    "## Implementing LSTM"
   ]
  },
  {
   "cell_type": "code",
   "execution_count": 65,
   "id": "e0199c36",
   "metadata": {},
   "outputs": [],
   "source": [
    "model1 = Sequential()\n",
    "model1.add(Embedding(vocab, 32,input_length=max_len))\n",
    "model1.add(LSTM(16))\n",
    "model1.add(Dense(1,activation='sigmoid'))"
   ]
  },
  {
   "cell_type": "code",
   "execution_count": 66,
   "id": "35980af8",
   "metadata": {},
   "outputs": [],
   "source": [
    "model1.compile(loss='binary_crossentropy',metrics=['accuracy'])"
   ]
  },
  {
   "cell_type": "code",
   "execution_count": 67,
   "id": "6750d139",
   "metadata": {},
   "outputs": [
    {
     "name": "stdout",
     "output_type": "stream",
     "text": [
      "Epoch 1/5\n",
      "259/259 [==============================] - 5s 11ms/step - loss: 0.6934 - accuracy: 0.5045\n",
      "Epoch 2/5\n",
      "259/259 [==============================] - 3s 10ms/step - loss: 0.5514 - accuracy: 0.7156\n",
      "Epoch 3/5\n",
      "259/259 [==============================] - 3s 11ms/step - loss: 0.4059 - accuracy: 0.8261\n",
      "Epoch 4/5\n",
      "259/259 [==============================] - 3s 10ms/step - loss: 0.3417 - accuracy: 0.8637\n",
      "Epoch 5/5\n",
      "259/259 [==============================] - 3s 10ms/step - loss: 0.3045 - accuracy: 0.8809\n"
     ]
    },
    {
     "data": {
      "text/plain": [
       "<keras.src.callbacks.History at 0x22dbf2f3c40>"
      ]
     },
     "execution_count": 67,
     "metadata": {},
     "output_type": "execute_result"
    }
   ],
   "source": [
    "model1.fit(x = transformed_train,y = ytrain, epochs=5)"
   ]
  },
  {
   "cell_type": "code",
   "execution_count": 68,
   "id": "a6763d3f",
   "metadata": {},
   "outputs": [
    {
     "name": "stdout",
     "output_type": "stream",
     "text": [
      "65/65 [==============================] - 1s 5ms/step\n"
     ]
    },
    {
     "data": {
      "text/plain": [
       "array([[0.9694284 ],\n",
       "       [0.0273621 ],\n",
       "       [0.91261697],\n",
       "       [0.490464  ]], dtype=float32)"
      ]
     },
     "execution_count": 68,
     "metadata": {},
     "output_type": "execute_result"
    }
   ],
   "source": [
    "pred_lstm = model1.predict(transformed_test)\n",
    "pred_lstm[:4]"
   ]
  },
  {
   "cell_type": "code",
   "execution_count": 69,
   "id": "1d1a12e9",
   "metadata": {},
   "outputs": [
    {
     "data": {
      "text/plain": [
       "array([[1],\n",
       "       [0],\n",
       "       [1]])"
      ]
     },
     "execution_count": 69,
     "metadata": {},
     "output_type": "execute_result"
    }
   ],
   "source": [
    "pred_lstm = (pred_lstm>0.50)*1\n",
    "pred_lstm[:3]"
   ]
  },
  {
   "cell_type": "code",
   "execution_count": 70,
   "id": "9e3d1912",
   "metadata": {},
   "outputs": [
    {
     "data": {
      "text/plain": [
       "0.791988416988417"
      ]
     },
     "execution_count": 70,
     "metadata": {},
     "output_type": "execute_result"
    }
   ],
   "source": [
    "accuracy_score(ytest,pred_lstm)"
   ]
  },
  {
   "cell_type": "code",
   "execution_count": null,
   "id": "2e70621f",
   "metadata": {},
   "outputs": [],
   "source": []
  }
 ],
 "metadata": {
  "kernelspec": {
   "display_name": "Python 3 (ipykernel)",
   "language": "python",
   "name": "python3"
  },
  "language_info": {
   "codemirror_mode": {
    "name": "ipython",
    "version": 3
   },
   "file_extension": ".py",
   "mimetype": "text/x-python",
   "name": "python",
   "nbconvert_exporter": "python",
   "pygments_lexer": "ipython3",
   "version": "3.12.7"
  }
 },
 "nbformat": 4,
 "nbformat_minor": 5
}
